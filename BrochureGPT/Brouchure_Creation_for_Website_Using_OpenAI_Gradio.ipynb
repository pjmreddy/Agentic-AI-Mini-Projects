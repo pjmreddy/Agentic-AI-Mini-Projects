{
 "cells": [
  {
   "cell_type": "markdown",
   "id": "c3f14740-2984-4452-a231-a1a8d8b8db7e",
   "metadata": {},
   "source": [
    "# Importing requirements"
   ]
  },
  {
   "cell_type": "code",
   "execution_count": 22,
   "id": "c75038ca-d3f3-4eeb-bedd-4798c9735c17",
   "metadata": {},
   "outputs": [],
   "source": [
    "import os\n",
    "import requests\n",
    "from bs4 import BeautifulSoup\n",
    "from IPython.display import Markdown, display, update_display\n",
    "from dotenv import load_dotenv\n",
    "import json\n",
    "from openai import OpenAI"
   ]
  },
  {
   "cell_type": "markdown",
   "id": "c3ebb78e-70a9-43d2-9fe4-c976f442189c",
   "metadata": {},
   "source": [
    "# Loading API key\n",
    "make sure you have a api_key in .env file created before loading API key. If not use any open source(ollama)."
   ]
  },
  {
   "cell_type": "code",
   "execution_count": 23,
   "id": "1a5ccbc2-a296-4723-8e98-71bb85ef0fcc",
   "metadata": {},
   "outputs": [
    {
     "name": "stdout",
     "output_type": "stream",
     "text": [
      "API_Key found\n"
     ]
    }
   ],
   "source": [
    "load_dotenv(override=True)\n",
    "api_key = os.getenv('OPENAI_API_KEY')\n",
    "\n",
    "print(\"API_Key found\") if api_key else print(\"API key not fund\")"
   ]
  },
  {
   "cell_type": "code",
   "execution_count": 24,
   "id": "b0ddab55-7bf6-4714-a84c-ba64d945ee78",
   "metadata": {},
   "outputs": [],
   "source": [
    "model = \"gpt-4o-mini\"\n",
    "openai = OpenAI()"
   ]
  },
  {
   "cell_type": "markdown",
   "id": "713c7c49-e73e-4084-849d-935d9e7b19dc",
   "metadata": {},
   "source": [
    "# Checking whether open ai with our API is working or not"
   ]
  },
  {
   "cell_type": "code",
   "execution_count": 25,
   "id": "6dc46cce-b547-4064-b7da-19e0c00ebebf",
   "metadata": {},
   "outputs": [],
   "source": [
    "message = [{ \"role\" : \"user\",\n",
    "           \"content\" : \" Brief me about the business applications of the Generative AI in 2 lines\"\n",
    "          }]"
   ]
  },
  {
   "cell_type": "code",
   "execution_count": 26,
   "id": "1aab8edc-969e-44d9-b720-fd4363dd3368",
   "metadata": {},
   "outputs": [],
   "source": [
    "answer = openai.chat.completions.create(\n",
    "    model = model,\n",
    "    messages = message)"
   ]
  },
  {
   "cell_type": "code",
   "execution_count": 27,
   "id": "17c0a45c-99a4-4908-b66f-a65f242c7c46",
   "metadata": {},
   "outputs": [
    {
     "data": {
      "text/markdown": [
       "Generative AI can streamline content creation by producing high-quality text, images, and multimedia, enhancing marketing and branding efforts. Additionally, it can improve product design and innovation through automated prototyping and simulation, fostering more efficient R&D processes."
      ],
      "text/plain": [
       "<IPython.core.display.Markdown object>"
      ]
     },
     "metadata": {},
     "output_type": "display_data"
    }
   ],
   "source": [
    "display(Markdown(answer.choices[0].message.content))"
   ]
  },
  {
   "cell_type": "markdown",
   "id": "bee93c54-467c-4e1c-aa70-0ea763ac2041",
   "metadata": {},
   "source": [
    "# Creating website class for scrapping"
   ]
  },
  {
   "cell_type": "code",
   "execution_count": 28,
   "id": "a774d90b-90d2-4559-8704-8d3ea925775a",
   "metadata": {},
   "outputs": [],
   "source": [
    "# defining headers to prevent getting blocked\n",
    "headers = {\n",
    " \"User-Agent\": \"Mozilla/5.0 (Windows NT 10.0; Win64; x64) AppleWebKit/537.36 (KHTML, like Gecko) Chrome/117.0.0.0 Safari/537.36\"\n",
    "}\n",
    "\n",
    "class Website:\n",
    "    \n",
    "    def __init__(self, url):\n",
    "        self.url = url\n",
    "\n",
    "        resp = requests.get(url, headers = headers)\n",
    "        soup = BeautifulSoup(resp.content, 'html.parser')\n",
    "\n",
    "        self. title = soup.title.string if soup.title else \"Title not found\"\n",
    "\n",
    "        for unwanted in soup.body([\"script\", \"style\", \"img\", \"input\"]):\n",
    "            unwanted.decompose()\n",
    "\n",
    "        self.content = soup.get_text(\"\\n\", strip = True)\n",
    "\n",
    "        links = [link.get('href') for link in soup.find_all(\"a\")]\n",
    "        self.links = [link for link in links if link]\n",
    "\n",
    "    def get_content(self):\n",
    "        return f\"Web page title: {self.title} \\n\\n Web page contents: {self.content}\\n\\n\"\n",
    "        "
   ]
  },
  {
   "cell_type": "code",
   "execution_count": 29,
   "id": "f6d8df91-0067-4534-9e2f-69267d627bf6",
   "metadata": {},
   "outputs": [
    {
     "name": "stdout",
     "output_type": "stream",
     "text": [
      "['https://edwarddonner.com/', 'https://edwarddonner.com/connect-four/', 'https://edwarddonner.com/outsmart/', 'https://edwarddonner.com/about-me-and-about-nebula/', 'https://edwarddonner.com/posts/', 'https://edwarddonner.com/', 'https://news.ycombinator.com', 'https://nebula.io/?utm_source=ed&utm_medium=referral', 'https://www.prnewswire.com/news-releases/wynden-stark-group-acquires-nyc-venture-backed-tech-startup-untapt-301269512.html', 'https://patents.google.com/patent/US20210049536A1/', 'https://www.linkedin.com/in/eddonner/', 'https://edwarddonner.com/2025/01/23/llm-workshop-hands-on-with-agents-resources/', 'https://edwarddonner.com/2025/01/23/llm-workshop-hands-on-with-agents-resources/', 'https://edwarddonner.com/2024/12/21/llm-resources-superdatascience/', 'https://edwarddonner.com/2024/12/21/llm-resources-superdatascience/', 'https://edwarddonner.com/2024/11/13/llm-engineering-resources/', 'https://edwarddonner.com/2024/11/13/llm-engineering-resources/', 'https://edwarddonner.com/2024/10/16/from-software-engineer-to-ai-data-scientist-resources/', 'https://edwarddonner.com/2024/10/16/from-software-engineer-to-ai-data-scientist-resources/', 'https://edwarddonner.com/', 'https://edwarddonner.com/connect-four/', 'https://edwarddonner.com/outsmart/', 'https://edwarddonner.com/about-me-and-about-nebula/', 'https://edwarddonner.com/posts/', 'mailto:hello@mygroovydomain.com', 'https://www.linkedin.com/in/eddonner/', 'https://twitter.com/edwarddonner', 'https://www.facebook.com/edward.donner.52']\n"
     ]
    }
   ],
   "source": [
    "webscrap = Website(\"https://edwarddonner.com/\")\n",
    "print(webscrap.links)"
   ]
  },
  {
   "cell_type": "markdown",
   "id": "c4534ef9-2158-4bb0-912e-69d0c2056195",
   "metadata": {},
   "source": [
    "# Calling gpt 4o mini to read links and get useful links in structed json format"
   ]
  },
  {
   "cell_type": "code",
   "execution_count": 30,
   "id": "e61c871c-7d88-4e35-8ba6-6cc8ab629074",
   "metadata": {},
   "outputs": [],
   "source": [
    "system_prompt = \"\"\" You are provided with a list of links of a web page.\\n\n",
    "You have to findout the useful links from the given list to keep in them in creating brochure of  website like\n",
    "about, careers , jobs, etc..\\n\n",
    "You have to give reply in structured json format as this example.\\n\n",
    "{\n",
    "example:[\n",
    "\"type\" : \"about page\", \"url\" : \"https://url/about/\",\n",
    "\"type\" : \"career page\", \"url\" : \"https://url/careers/\"\n",
    "]\n",
    "}\"\"\"\n"
   ]
  },
  {
   "cell_type": "code",
   "execution_count": 31,
   "id": "9c5c86e3-1ec5-4902-b917-702ff3e8a05f",
   "metadata": {},
   "outputs": [],
   "source": [
    "def get_links_prompt(webscrap):\n",
    "    user_prompt = f\" Here is the list of links on the website: {webscrap.url}.\\n\"\n",
    "    user_prompt+= \" Please find the useful links from the below to include in brochure of the website, respomd with full url\"\n",
    "    user_prompt+=\" Donot include emails and other links.\\n Links: \\n \"\n",
    "    user_prompt+= \"\\n\".join(webscrap.links)\n",
    "\n",
    "    return user_prompt\n"
   ]
  },
  {
   "cell_type": "code",
   "execution_count": 32,
   "id": "f77a5f82-13a9-44c7-bbc1-9b9c02e6ab88",
   "metadata": {},
   "outputs": [
    {
     "name": "stdout",
     "output_type": "stream",
     "text": [
      " Here is the list of links on the website: https://edwarddonner.com/.\n",
      " Please find the useful links from the below to include in brochure of the website, respomd with full url Donot include emails and other links.\n",
      " Links: \n",
      " https://edwarddonner.com/\n",
      "https://edwarddonner.com/connect-four/\n",
      "https://edwarddonner.com/outsmart/\n",
      "https://edwarddonner.com/about-me-and-about-nebula/\n",
      "https://edwarddonner.com/posts/\n",
      "https://edwarddonner.com/\n",
      "https://news.ycombinator.com\n",
      "https://nebula.io/?utm_source=ed&utm_medium=referral\n",
      "https://www.prnewswire.com/news-releases/wynden-stark-group-acquires-nyc-venture-backed-tech-startup-untapt-301269512.html\n",
      "https://patents.google.com/patent/US20210049536A1/\n",
      "https://www.linkedin.com/in/eddonner/\n",
      "https://edwarddonner.com/2025/01/23/llm-workshop-hands-on-with-agents-resources/\n",
      "https://edwarddonner.com/2025/01/23/llm-workshop-hands-on-with-agents-resources/\n",
      "https://edwarddonner.com/2024/12/21/llm-resources-superdatascience/\n",
      "https://edwarddonner.com/2024/12/21/llm-resources-superdatascience/\n",
      "https://edwarddonner.com/2024/11/13/llm-engineering-resources/\n",
      "https://edwarddonner.com/2024/11/13/llm-engineering-resources/\n",
      "https://edwarddonner.com/2024/10/16/from-software-engineer-to-ai-data-scientist-resources/\n",
      "https://edwarddonner.com/2024/10/16/from-software-engineer-to-ai-data-scientist-resources/\n",
      "https://edwarddonner.com/\n",
      "https://edwarddonner.com/connect-four/\n",
      "https://edwarddonner.com/outsmart/\n",
      "https://edwarddonner.com/about-me-and-about-nebula/\n",
      "https://edwarddonner.com/posts/\n",
      "mailto:hello@mygroovydomain.com\n",
      "https://www.linkedin.com/in/eddonner/\n",
      "https://twitter.com/edwarddonner\n",
      "https://www.facebook.com/edward.donner.52\n"
     ]
    }
   ],
   "source": [
    "print(get_links_prompt(webscrap))"
   ]
  },
  {
   "cell_type": "code",
   "execution_count": 33,
   "id": "74247b8d-b93e-4a59-8a2f-89797ee3b69e",
   "metadata": {},
   "outputs": [],
   "source": [
    "def get_use_links(url):\n",
    "    website = Website(url)\n",
    "    response = openai.chat.completions.create(\n",
    "    model = model,\n",
    "    messages = [\n",
    "        {\"role\" : \"system\", \"content\" : system_prompt},\n",
    "        {\"role\" : \"user\", \"content\" : get_links_prompt(website)}\n",
    "            ],\n",
    "    response_format = {\"type\": \"json_object\"})\n",
    "    return json.loads(response.choices[0].message.content)\n",
    "    "
   ]
  },
  {
   "cell_type": "code",
   "execution_count": 34,
   "id": "3591a17b-e94a-4fc4-8561-2ba66684017f",
   "metadata": {},
   "outputs": [
    {
     "data": {
      "text/plain": [
       "{'useful_links': [{'type': 'about page',\n",
       "   'url': 'https://www.deeplearning.ai/about/'},\n",
       "  {'type': 'career page', 'url': 'https://www.deeplearning.ai/careers/'},\n",
       "  {'type': 'courses page', 'url': 'https://www.deeplearning.ai/courses/'},\n",
       "  {'type': 'blog page', 'url': 'https://www.deeplearning.ai/blog/'},\n",
       "  {'type': 'community page', 'url': 'https://www.deeplearning.ai/community/'},\n",
       "  {'type': 'events page', 'url': 'https://www.deeplearning.ai/events/'},\n",
       "  {'type': 'resources page', 'url': 'https://www.deeplearning.ai/resources/'}]}"
      ]
     },
     "execution_count": 34,
     "metadata": {},
     "output_type": "execute_result"
    }
   ],
   "source": [
    "get_use_links(\"https://www.deeplearning.ai/\")"
   ]
  },
  {
   "cell_type": "markdown",
   "id": "f0fed0f3-9813-4e11-8925-ce2d42c09a4c",
   "metadata": {},
   "source": [
    "# Lets call gpt for creating a brochure"
   ]
  },
  {
   "cell_type": "code",
   "execution_count": 35,
   "id": "ab7fcfb2-20da-44a7-97c0-3400cee87036",
   "metadata": {},
   "outputs": [],
   "source": [
    "def get_all_details(url):\n",
    "    result = \" Landing Page:\\n\"\n",
    "    result += Website(url).get_content()\n",
    "    links = get_use_links(url)\n",
    "\n",
    "    for link in links['useful_links']:\n",
    "        result+= f\" \\n\\n {link['type']}: \\n\"\n",
    "        result+= Website(link['url']).get_content()\n",
    "    return result"
   ]
  },
  {
   "cell_type": "code",
   "execution_count": 36,
   "id": "e9ca0c91-5318-4f78-b3c0-3352b58daa15",
   "metadata": {},
   "outputs": [],
   "source": [
    "sys_prompt = \"You are an assistant that analyses the content of several pages of the company website and creates\\\n",
    "a short brochure about the company for a prospective customers. Respond in markdown. With a brochure name with website name. The brochure should be funny and exciting\""
   ]
  },
  {
   "cell_type": "code",
   "execution_count": 37,
   "id": "8ccaecd5-33e8-4f0e-bcc1-20bfc19f42a5",
   "metadata": {},
   "outputs": [],
   "source": [
    "def get_user_prompt(company_name, url):\n",
    "    user_prompt = f\"you are looking after a company called {company_name}\"\n",
    "    user_prompt += \"Here are the contents of its landing page and other relevant pages: to create a short brochure based on the below information\"\n",
    "    user_prompt += get_all_details(url)\n",
    "    user_prompt = user_prompt[:20_000]\n",
    "    return user_prompt"
   ]
  },
  {
   "cell_type": "code",
   "execution_count": 38,
   "id": "a31d0df1-afa3-49da-9ae2-cb4d5d2a4b30",
   "metadata": {},
   "outputs": [],
   "source": [
    "def create_brochure(company_name, url):\n",
    "    stream = openai.chat.completions.create(\n",
    "        model = model,\n",
    "        messages = [\n",
    "            {\"role\":\"system\" , \"content\": sys_prompt},\n",
    "            {\"role\": \"user\", \"content\": get_user_prompt(company_name, url)}\n",
    "        ],\n",
    "        stream = True\n",
    "    )\n",
    "\n",
    "    response = \"\"\n",
    "\n",
    "    for chunk in stream:\n",
    "        response+= chunk.choices[0].delta.content or ''\n",
    "        yield response\n",
    "    \n",
    "\n"
   ]
  },
  {
   "cell_type": "markdown",
   "id": "fdfd808e-d03b-4abb-9f2e-2577f4cf47d4",
   "metadata": {},
   "source": [
    "# Integrating Gradio"
   ]
  },
  {
   "cell_type": "code",
   "execution_count": 39,
   "id": "5653f1b1-2a42-4f60-92bf-2976593d935e",
   "metadata": {},
   "outputs": [],
   "source": [
    "import gradio as gr"
   ]
  },
  {
   "cell_type": "code",
   "execution_count": 40,
   "id": "b59efb55-f07f-4291-bea7-7d46433a1203",
   "metadata": {},
   "outputs": [
    {
     "name": "stdout",
     "output_type": "stream",
     "text": [
      "* Running on local URL:  http://127.0.0.1:7861\n",
      "\n",
      "To create a public link, set `share=True` in `launch()`.\n"
     ]
    },
    {
     "data": {
      "text/html": [
       "<div><iframe src=\"http://127.0.0.1:7861/\" width=\"100%\" height=\"500\" allow=\"autoplay; camera; microphone; clipboard-read; clipboard-write;\" frameborder=\"0\" allowfullscreen></iframe></div>"
      ],
      "text/plain": [
       "<IPython.core.display.HTML object>"
      ]
     },
     "metadata": {},
     "output_type": "display_data"
    },
    {
     "data": {
      "text/plain": []
     },
     "execution_count": 40,
     "metadata": {},
     "output_type": "execute_result"
    }
   ],
   "source": [
    "view = gr.Interface(\n",
    "    fn=create_brochure,\n",
    "    inputs=[\n",
    "        gr.Textbox(label=\"Company name:\"),\n",
    "        gr.Textbox(label=\"Landing page URL including http:// or https://\")],\n",
    "    outputs=[gr.Markdown(label=\"Brochure:\")],\n",
    "    flagging_mode=\"never\"\n",
    ")\n",
    "view.launch()"
   ]
  }
 ],
 "metadata": {
  "kernelspec": {
   "display_name": "llms",
   "language": "python",
   "name": "python3"
  },
  "language_info": {
   "codemirror_mode": {
    "name": "ipython",
    "version": 3
   },
   "file_extension": ".py",
   "mimetype": "text/x-python",
   "name": "python",
   "nbconvert_exporter": "python",
   "pygments_lexer": "ipython3",
   "version": "3.11.11"
  }
 },
 "nbformat": 4,
 "nbformat_minor": 5
}
