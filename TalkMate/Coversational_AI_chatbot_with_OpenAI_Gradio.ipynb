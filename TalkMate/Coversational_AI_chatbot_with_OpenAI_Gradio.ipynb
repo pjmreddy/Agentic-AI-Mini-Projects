{
 "cells": [
  {
   "cell_type": "markdown",
   "id": "6c67c95f-1dec-4323-a554-8aacf5de4849",
   "metadata": {},
   "source": [
    "# Import requirements"
   ]
  },
  {
   "cell_type": "code",
   "execution_count": 1,
   "id": "2e6c30bb-c0c3-4436-9747-a621687b343f",
   "metadata": {},
   "outputs": [],
   "source": [
    "import os\n",
    "from openai import OpenAI\n",
    "import gradio as gr\n",
    "from dotenv import load_dotenv"
   ]
  },
  {
   "cell_type": "code",
   "execution_count": 2,
   "id": "2a07bf46-31d1-4a6f-8df5-85f2434dca05",
   "metadata": {},
   "outputs": [],
   "source": [
    "# loading API key and calling model\n",
    "load_dotenv(override=True)\n",
    "\n",
    "api_key = os.getenv(\"OPENAI_API_KEY\")\n",
    "\n",
    "openai = OpenAI()"
   ]
  },
  {
   "cell_type": "markdown",
   "id": "aa7cc03d-d084-42e2-a072-e71692c8d913",
   "metadata": {},
   "source": [
    "# Create a chat function to call AI"
   ]
  },
  {
   "cell_type": "code",
   "execution_count": null,
   "id": "8617b5ba-3d3d-44ac-8c2e-25bd68072b8a",
   "metadata": {},
   "outputs": [],
   "source": [
    "sys_msg = \"You are an AI expert in [specific domain, e.g., AI, software development, healthcare]. \\\n",
    "    Provide precise, well-researched answers with technical depth while maintaining clarity. \\\n",
    "    Adapt your explanations based on the user's expertise level and provide additional resources when relevant.\""
   ]
  },
  {
   "cell_type": "code",
   "execution_count": 4,
   "id": "99c95bb9-47bd-4928-88cd-b44e5384aa3f",
   "metadata": {},
   "outputs": [],
   "source": [
    "def chat(message, history):\n",
    "    msgs = [{\"role\": \"system\", \"content\": sys_msg}] + history + [{\"role\":\"user\", \"content\": message}]\n",
    "\n",
    "    resp = openai.chat.completions.create( model = \"gpt-4o-mini\", messages = msgs, stream = True)\n",
    "\n",
    "    response = \"\"\n",
    "    for chunk in resp:\n",
    "        response += chunk.choices[0].delta.content or ''\n",
    "        yield response"
   ]
  },
  {
   "cell_type": "markdown",
   "id": "b4e13f14-441e-4b81-b153-5baf79674159",
   "metadata": {},
   "source": [
    "# Integrating Gradio\n"
   ]
  },
  {
   "cell_type": "code",
   "execution_count": 5,
   "id": "33f0fcd9-b9e1-4c90-b1fe-5dfabbe728b1",
   "metadata": {},
   "outputs": [
    {
     "name": "stdout",
     "output_type": "stream",
     "text": [
      "* Running on local URL:  http://127.0.0.1:7862\n",
      "\n",
      "To create a public link, set `share=True` in `launch()`.\n"
     ]
    },
    {
     "data": {
      "text/html": [
       "<div><iframe src=\"http://127.0.0.1:7862/\" width=\"100%\" height=\"500\" allow=\"autoplay; camera; microphone; clipboard-read; clipboard-write;\" frameborder=\"0\" allowfullscreen></iframe></div>"
      ],
      "text/plain": [
       "<IPython.core.display.HTML object>"
      ]
     },
     "metadata": {},
     "output_type": "display_data"
    },
    {
     "data": {
      "text/plain": []
     },
     "execution_count": 5,
     "metadata": {},
     "output_type": "execute_result"
    }
   ],
   "source": [
    "gr.ChatInterface(fn=chat, type= \"messages\").launch()"
   ]
  },
  {
   "cell_type": "markdown",
   "id": "f2b43129-280b-4364-bce5-edfa9e8d5256",
   "metadata": {},
   "source": [
    "# Changing functionality of AI, by experimenting different system messages"
   ]
  },
  {
   "cell_type": "code",
   "execution_count": 6,
   "id": "ff17b31b-7155-4c4f-a19f-7321a6606e73",
   "metadata": {},
   "outputs": [],
   "source": [
    "sys_msg = \"You are an AI shopping assistant designed to help users find the perfect product based on their needs and preferences.\\\n",
    "Ask relevant questions about their requirements and provide personalized recommendations with brief explanations. \\\n",
    "Keep responses concise and engaging.\""
   ]
  },
  {
   "cell_type": "code",
   "execution_count": 7,
   "id": "6d2cada4-b5eb-4067-9fe8-da455741da12",
   "metadata": {},
   "outputs": [
    {
     "name": "stdout",
     "output_type": "stream",
     "text": [
      "* Running on local URL:  http://127.0.0.1:7863\n",
      "\n",
      "To create a public link, set `share=True` in `launch()`.\n"
     ]
    },
    {
     "data": {
      "text/html": [
       "<div><iframe src=\"http://127.0.0.1:7863/\" width=\"100%\" height=\"500\" allow=\"autoplay; camera; microphone; clipboard-read; clipboard-write;\" frameborder=\"0\" allowfullscreen></iframe></div>"
      ],
      "text/plain": [
       "<IPython.core.display.HTML object>"
      ]
     },
     "metadata": {},
     "output_type": "display_data"
    },
    {
     "data": {
      "text/plain": []
     },
     "execution_count": 7,
     "metadata": {},
     "output_type": "execute_result"
    }
   ],
   "source": [
    "gr.ChatInterface(fn=chat, type= \"messages\").launch()"
   ]
  }
 ],
 "metadata": {
  "kernelspec": {
   "display_name": "llms",
   "language": "python",
   "name": "python3"
  },
  "language_info": {
   "codemirror_mode": {
    "name": "ipython",
    "version": 3
   },
   "file_extension": ".py",
   "mimetype": "text/x-python",
   "name": "python",
   "nbconvert_exporter": "python",
   "pygments_lexer": "ipython3",
   "version": "3.11.11"
  }
 },
 "nbformat": 4,
 "nbformat_minor": 5
}
