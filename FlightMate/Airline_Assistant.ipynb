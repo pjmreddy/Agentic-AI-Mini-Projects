{
 "cells": [
  {
   "cell_type": "markdown",
   "id": "d81c2961-cebe-45c4-aa44-0464156a859f",
   "metadata": {},
   "source": [
    "# Importing requirements"
   ]
  },
  {
   "cell_type": "code",
   "execution_count": 12,
   "id": "f1178826-df18-4cd5-a24c-2d656e7a1898",
   "metadata": {},
   "outputs": [],
   "source": [
    "import os\n",
    "from openai import OpenAI\n",
    "import gradio as gr\n",
    "from dotenv import load_dotenv\n",
    "import json"
   ]
  },
  {
   "cell_type": "code",
   "execution_count": 13,
   "id": "0d79b443-a043-4742-8333-1bf67dd1b3d0",
   "metadata": {},
   "outputs": [],
   "source": [
    "# loading api and initalizing gpt\n",
    "\n",
    "load_dotenv(override=True)\n",
    "api_key = os.getenv(\"OPENAI_API_KEY\")\n",
    "\n",
    "gpt_model= \"gpt-4o-mini\"\n",
    "\n",
    "openai = OpenAI()"
   ]
  },
  {
   "cell_type": "markdown",
   "id": "5991351d-adf7-4d0a-a1ce-c9af3678472c",
   "metadata": {},
   "source": [
    "# Creating chat function"
   ]
  },
  {
   "cell_type": "code",
   "execution_count": 14,
   "id": "3c868695-3579-4004-8706-89b1f63c3482",
   "metadata": {},
   "outputs": [],
   "source": [
    "sys_msg= \"You are a helpful assistant for an Airline called FlightAI.\\\n",
    "Give short, courteous answers, no more than 1 sentence. \\\n",
    "Always be accurate. If you don't know the answer, say so.\""
   ]
  },
  {
   "cell_type": "code",
   "execution_count": 15,
   "id": "1d7e1971-cf97-4c2c-88d7-bf01993b80c7",
   "metadata": {},
   "outputs": [],
   "source": [
    "def chat(message, history):\n",
    "    messages = [{\"role\":\"system\", \"content\": sys_msg}] + history + [{\"role\":\"user\", \"content\": message}]\n",
    "\n",
    "    resp = openai.chat.completions.create(\n",
    "        model = gpt_model,\n",
    "        messages = messages,\n",
    "        stream = True\n",
    "    )\n",
    "\n",
    "    response = \"\"\n",
    "    for chunk in resp:\n",
    "        response += chunk.choices[0].delta.content or ''\n",
    "        yield response"
   ]
  },
  {
   "cell_type": "markdown",
   "id": "977acd65-e2de-4534-b427-8d7a2c89d374",
   "metadata": {},
   "source": [
    "# Creating Tools"
   ]
  },
  {
   "cell_type": "code",
   "execution_count": 16,
   "id": "4cb21d70-613d-49f1-bec9-87098f968e68",
   "metadata": {},
   "outputs": [],
   "source": [
    "# Let's start by making a useful function\n",
    "\n",
    "ticket_prices = {\"london\": \"$799\", \"paris\": \"$899\", \"tokyo\": \"$1400\", \"berlin\": \"$499\"}\n",
    "\n",
    "def get_ticket_price(destination_city):\n",
    "    print(f\"Tool get_ticket_price called for {destination_city}\")\n",
    "    city = destination_city.lower()\n",
    "    return ticket_prices.get(city, \"Unknown\")"
   ]
  },
  {
   "cell_type": "code",
   "execution_count": 17,
   "id": "9cc8b3f0-7d50-4929-9398-35afdd64b7ae",
   "metadata": {},
   "outputs": [
    {
     "name": "stdout",
     "output_type": "stream",
     "text": [
      "Tool get_ticket_price called for london\n"
     ]
    },
    {
     "data": {
      "text/plain": [
       "'$799'"
      ]
     },
     "execution_count": 17,
     "metadata": {},
     "output_type": "execute_result"
    }
   ],
   "source": [
    "#checking above function\n",
    "get_ticket_price(\"london\")"
   ]
  },
  {
   "cell_type": "code",
   "execution_count": 18,
   "id": "cf51d207-e9c6-4e25-9986-08757bfcbbe8",
   "metadata": {},
   "outputs": [],
   "source": [
    "# There's a particular dictionary structure that's required to describe our function:\n",
    "\n",
    "price_function = {\n",
    "    \"name\": \"get_ticket_price\",\n",
    "    \"description\": \"Get the price of a return ticket to the destination city. Call this whenever you need to know the ticket price, for example when a customer asks 'How much is a ticket to this city'\",\n",
    "    \"parameters\": {\n",
    "        \"type\": \"object\",\n",
    "        \"properties\": {\n",
    "            \"destination_city\": {\n",
    "                \"type\": \"string\",\n",
    "                \"description\": \"The city that the customer wants to travel to\",\n",
    "            },\n",
    "        },\n",
    "        \"required\": [\"destination_city\"],\n",
    "        \"additionalProperties\": False\n",
    "    }\n",
    "}"
   ]
  },
  {
   "cell_type": "code",
   "execution_count": 19,
   "id": "1b913747-e101-4eaa-bc81-4fe62c1ceff9",
   "metadata": {},
   "outputs": [],
   "source": [
    "# And this is included in a list of tools:\n",
    "\n",
    "tools = [{\"type\": \"function\", \"function\": price_function}]"
   ]
  },
  {
   "cell_type": "code",
   "execution_count": 20,
   "id": "737d8ff9-4d22-4362-ab89-2b6c2aa9bfce",
   "metadata": {},
   "outputs": [],
   "source": [
    "def chat(message, history):\n",
    "    messages = [{\"role\":\"system\", \"content\": sys_msg}] + history + [{\"role\":\"user\", \"content\": message}]\n",
    "    resp = openai.chat.completions.create(model=gpt_model, messages=messages, tools=tools)\n",
    "\n",
    "    if resp.choices[0].finish_reason==\"tool_calls\":\n",
    "        message = resp.choices[0].message\n",
    "        resp, city = handle_tool_call(message)\n",
    "        messages.append(message)\n",
    "        messages.append(resp)\n",
    "        resp = openai.chat.completions.create(model=gpt_model, messages=messages)\n",
    "    \n",
    "    return resp.choices[0].message.content"
   ]
  },
  {
   "cell_type": "code",
   "execution_count": 21,
   "id": "c0611a43-9dd4-448d-b7fb-c53e9b57b46a",
   "metadata": {},
   "outputs": [],
   "source": [
    "\n",
    "# We have to write that function handle_tool_call:\n",
    "\n",
    "def handle_tool_call(message):\n",
    "    tool_call = message.tool_calls[0]\n",
    "    arguments = json.loads(tool_call.function.arguments)\n",
    "    city = arguments.get('destination_city')\n",
    "    price = get_ticket_price(city)\n",
    "    response = {\n",
    "        \"role\": \"tool\",\n",
    "        \"content\": json.dumps({\"destination_city\": city,\"price\": price}),\n",
    "        \"tool_call_id\": tool_call.id\n",
    "    }\n",
    "    return response, city"
   ]
  },
  {
   "cell_type": "code",
   "execution_count": 22,
   "id": "95c3008c-f67e-4730-ab42-d724c12e12ef",
   "metadata": {},
   "outputs": [
    {
     "name": "stdout",
     "output_type": "stream",
     "text": [
      "* Running on local URL:  http://127.0.0.1:7863\n",
      "\n",
      "To create a public link, set `share=True` in `launch()`.\n"
     ]
    },
    {
     "data": {
      "text/html": [
       "<div><iframe src=\"http://127.0.0.1:7863/\" width=\"100%\" height=\"500\" allow=\"autoplay; camera; microphone; clipboard-read; clipboard-write;\" frameborder=\"0\" allowfullscreen></iframe></div>"
      ],
      "text/plain": [
       "<IPython.core.display.HTML object>"
      ]
     },
     "metadata": {},
     "output_type": "display_data"
    },
    {
     "data": {
      "text/plain": []
     },
     "execution_count": 22,
     "metadata": {},
     "output_type": "execute_result"
    },
    {
     "name": "stdout",
     "output_type": "stream",
     "text": [
      "Tool get_ticket_price called for London\n"
     ]
    }
   ],
   "source": [
    "gr.ChatInterface(fn=chat, type=\"messages\").launch()"
   ]
  },
  {
   "cell_type": "code",
   "execution_count": null,
   "id": "e2a1222e-4b4f-4f96-adff-1c76c9f83aab",
   "metadata": {},
   "outputs": [],
   "source": []
  }
 ],
 "metadata": {
  "kernelspec": {
   "display_name": "llms",
   "language": "python",
   "name": "python3"
  },
  "language_info": {
   "codemirror_mode": {
    "name": "ipython",
    "version": 3
   },
   "file_extension": ".py",
   "mimetype": "text/x-python",
   "name": "python",
   "nbconvert_exporter": "python",
   "pygments_lexer": "ipython3",
   "version": "3.11.11"
  }
 },
 "nbformat": 4,
 "nbformat_minor": 5
}
