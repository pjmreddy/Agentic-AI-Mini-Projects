{
 "cells": [
  {
   "cell_type": "markdown",
   "id": "1ee48123-62c4-4115-a458-964c35db52cb",
   "metadata": {},
   "source": [
    "# Importing required libraries"
   ]
  },
  {
   "cell_type": "code",
   "execution_count": null,
   "id": "56c9e449-9e97-40a3-acd0-00fc26b29ac6",
   "metadata": {},
   "outputs": [],
   "source": [
    "\n",
    "import os\n",
    "import requests\n",
    "from dotenv import load_dotenv\n",
    "from bs4 import BeautifulSoup\n",
    "from IPython.display import Markdown, display\n",
    "from openai import OpenAI\n"
   ]
  },
  {
   "cell_type": "markdown",
   "id": "70e29bd1-7bee-4c5a-bdc3-5302b2825640",
   "metadata": {},
   "source": [
    "# Connecting to OpenAI"
   ]
  },
  {
   "cell_type": "code",
   "execution_count": null,
   "id": "37cb3401-da20-4d49-a31d-582484bd16f9",
   "metadata": {},
   "outputs": [],
   "source": [
    "load_dotenv(override=True)\n",
    "api_key = os.getenv('OPENAI_API_KEY')\n",
    "\n",
    "if not api_key:\n",
    "    print(\"Key not found\")\n",
    "else:\n",
    "    print(f'Key Found: {api_key}')"
   ]
  },
  {
   "cell_type": "code",
   "execution_count": null,
   "id": "a8adc022-ac92-4bc2-b071-d06067355b92",
   "metadata": {},
   "outputs": [],
   "source": [
    "openAI = OpenAI()"
   ]
  },
  {
   "cell_type": "markdown",
   "id": "17a51795-10d6-4b90-b706-d812f0e5e0c2",
   "metadata": {},
   "source": [
    "## Lets check preview of our frontier model is working"
   ]
  },
  {
   "cell_type": "code",
   "execution_count": null,
   "id": "44106794-a6d1-489d-93c0-c26bd2febc07",
   "metadata": {},
   "outputs": [],
   "source": [
    "msg = \" Hey Gpt! How are you today ?\"\n",
    "\n",
    "response = openAI.chat.completions.create(\n",
    "    model = \"gpt-4o-mini\",\n",
    "    messages = [\n",
    "        {\n",
    "            \"role\" : \"user\",\n",
    "            \"content\" : msg\n",
    "        }\n",
    "    ]\n",
    ")\n",
    "\n",
    "print(response.choices[0].message.content)"
   ]
  },
  {
   "cell_type": "markdown",
   "id": "1e7dd92d-ee19-42af-bec4-f4e1f2d81411",
   "metadata": {},
   "source": [
    "# Lets create a website class for scrapping"
   ]
  },
  {
   "cell_type": "code",
   "execution_count": null,
   "id": "98dec81c-576d-43eb-bf40-d15ea6a8cc86",
   "metadata": {},
   "outputs": [],
   "source": [
    "headers = {\n",
    " \"User-Agent\": \"Mozilla/5.0 (Windows NT 10.0; Win64; x64) AppleWebKit/537.36 (KHTML, like Gecko) Chrome/117.0.0.0 Safari/537.36\"\n",
    "}\n",
    "\n",
    "class Website:\n",
    "\n",
    "    def __init__(self, url):\n",
    "\n",
    "        self.url = url\n",
    "        response = requests.get(url, headers = headers)\n",
    "        res = BeautifulSoup(response.content, 'html.parser')\n",
    "        self.title = res.title.string if res.title else \"No title found\"\n",
    "\n",
    "        for trash in res.body([\"script\", \"style\", \"img\", \"input\"]):\n",
    "            trash.decompose()\n",
    "\n",
    "        self.text = res.get_text(separator = \"\\n\", strip = True)\n",
    "                                    \n"
   ]
  },
  {
   "cell_type": "code",
   "execution_count": null,
   "id": "da8b996b-98cc-410f-a50c-1ab251709bfc",
   "metadata": {},
   "outputs": [],
   "source": [
    "web = Website(\"https://www.deeplearning.ai/\")\n",
    "print(web.title)"
   ]
  },
  {
   "cell_type": "code",
   "execution_count": null,
   "id": "f2583e6d-5f3c-43a7-a3bc-b2ecf6f2f304",
   "metadata": {},
   "outputs": [],
   "source": [
    "print(web.text)"
   ]
  },
  {
   "cell_type": "markdown",
   "id": "367c5313-a7fe-4504-b22a-c9bd93ffa315",
   "metadata": {},
   "source": [
    "# Giving prompts (System & User)"
   ]
  },
  {
   "cell_type": "code",
   "execution_count": null,
   "id": "cd65de19-1e0a-448c-ad93-06953df38773",
   "metadata": {},
   "outputs": [],
   "source": [
    "system_prompt = \" You are an assistant that analyzes the contents of a website \\\n",
    "and provides a short summary \""
   ]
  },
  {
   "cell_type": "code",
   "execution_count": null,
   "id": "3ef4b133-880b-48ed-a0db-d3ba81758b6c",
   "metadata": {},
   "outputs": [],
   "source": [
    "def user(website):\n",
    "    \n",
    "    user_prompt = f\"You are looking at a website titled {website.title}\"\n",
    "    user_prompt += \"\\nThe contents of this website is as follows; \\\n",
    "please provide a short summary of this website in markdown.\\n\\n\"\n",
    "    user_prompt += website.text\n",
    "\n",
    "    return user_prompt\n",
    "    "
   ]
  },
  {
   "cell_type": "markdown",
   "id": "c9c8a664-15a6-44b9-baf1-dbce2c4e88e0",
   "metadata": {},
   "source": [
    "# Automating the workflow"
   ]
  },
  {
   "cell_type": "code",
   "execution_count": null,
   "id": "8cd6c1a6-9d5b-4beb-8e15-e2da60267234",
   "metadata": {},
   "outputs": [],
   "source": [
    "def api_msg(website):\n",
    "\n",
    "    return [\n",
    "        {\"role\" : \"system\", \"content\" : system_prompt},\n",
    "        {\"role\" : \"user\", 'content' : user(website)}\n",
    "    ]"
   ]
  },
  {
   "cell_type": "code",
   "execution_count": null,
   "id": "150df440-ead8-4bc9-9bda-2d64ffc43b92",
   "metadata": {},
   "outputs": [],
   "source": [
    "def summarize(url):\n",
    "    website = Website(url)\n",
    "    response = openAI.chat.completions.create(\n",
    "        model = \"gpt-4o-mini\",\n",
    "        messages = api_msg(website)\n",
    "    )\n",
    "\n",
    "    return response.choices[0].message.content"
   ]
  },
  {
   "cell_type": "code",
   "execution_count": null,
   "id": "d8ae26d2-f44b-4fd6-83c8-81340c68f470",
   "metadata": {},
   "outputs": [],
   "source": [
    "#lets call the workflow\n",
    "\n",
    "summary = summarize(\"https://www.deeplearning.ai/\")\n",
    "summary"
   ]
  },
  {
   "cell_type": "code",
   "execution_count": null,
   "id": "bfeb0881-5d05-4b1d-b0ac-d3f96954aa1f",
   "metadata": {},
   "outputs": [],
   "source": [
    "# lets display output in markdown\n",
    "def clean_summary(url):\n",
    "    summary = summarize(url)\n",
    "    display(Markdown(summary))"
   ]
  },
  {
   "cell_type": "code",
   "execution_count": null,
   "id": "7a73bafd-b0f6-4954-933d-737f5a1f6e75",
   "metadata": {},
   "outputs": [],
   "source": [
    "clean_summary(\"https://www.deeplearning.ai/\")"
   ]
  },
  {
   "cell_type": "code",
   "execution_count": null,
   "id": "b74a8c50-0ee7-46d0-901a-9702996fd075",
   "metadata": {},
   "outputs": [],
   "source": [
    "clean_summary(\"https://www.apple.com/\")"
   ]
  },
  {
   "cell_type": "code",
   "execution_count": null,
   "id": "ab74fb48-8097-417b-a470-50f28091a5a1",
   "metadata": {},
   "outputs": [],
   "source": []
  },
  {
   "cell_type": "code",
   "execution_count": null,
   "id": "93eed6c1-7a9b-4ea6-a559-6bbf11e76442",
   "metadata": {},
   "outputs": [],
   "source": []
  }
 ],
 "metadata": {
  "kernelspec": {
   "display_name": "llms",
   "language": "python",
   "name": "python3"
  },
  "language_info": {
   "codemirror_mode": {
    "name": "ipython",
    "version": 3
   },
   "file_extension": ".py",
   "mimetype": "text/x-python",
   "name": "python",
   "nbconvert_exporter": "python",
   "pygments_lexer": "ipython3",
   "version": "3.11.11"
  }
 },
 "nbformat": 4,
 "nbformat_minor": 5
}
