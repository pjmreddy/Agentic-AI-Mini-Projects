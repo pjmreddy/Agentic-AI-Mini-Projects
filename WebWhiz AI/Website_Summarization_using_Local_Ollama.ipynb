{
 "cells": [
  {
   "cell_type": "markdown",
   "id": "71f1b3a0-bdc2-4adb-911b-672e41dcb606",
   "metadata": {},
   "source": [
    "# Importing requirements"
   ]
  },
  {
   "cell_type": "code",
   "execution_count": 4,
   "id": "8410bae1-c971-4169-b11d-ed0918c155c2",
   "metadata": {},
   "outputs": [],
   "source": [
    "import os\n",
    "import json\n",
    "import requests\n",
    "import ollama\n",
    "from bs4 import BeautifulSoup\n",
    "from IPython.display import Markdown, display"
   ]
  },
  {
   "cell_type": "markdown",
   "id": "dc240e9e-2f10-4a83-9c40-4f6da1ee78a5",
   "metadata": {},
   "source": [
    "# Checking OLlama server is working or not\n"
   ]
  },
  {
   "cell_type": "code",
   "execution_count": 5,
   "id": "cb5e7098-2057-4d29-a4bb-8f39eb2fdf8e",
   "metadata": {},
   "outputs": [],
   "source": [
    "#creating constants\n",
    "\n",
    "model = \"llama3.2\"\n",
    "headers = {\"Content-Type\" : \"application/json\"}\n",
    "Ollama_api = \"http://localhost:11434/api/chat\""
   ]
  },
  {
   "cell_type": "code",
   "execution_count": 6,
   "id": "99eed86b-53d7-4601-832e-c1e6c5c15c80",
   "metadata": {},
   "outputs": [],
   "source": [
    "message = [{\n",
    "    'role' : 'user',\n",
    "    'content' : 'Describe some of the business applications of Generative AI?'\n",
    "}]"
   ]
  },
  {
   "cell_type": "code",
   "execution_count": 7,
   "id": "6c5401bb-934f-4197-aba9-34b6ba0a8dae",
   "metadata": {},
   "outputs": [],
   "source": [
    "payload = {\n",
    "    \"model\" : model,\n",
    "    \"messages\" : message,\n",
    "    \"stream\" : False\n",
    "}"
   ]
  },
  {
   "cell_type": "code",
   "execution_count": 8,
   "id": "a3e53bf9-def8-427b-8715-f869f8c20ab1",
   "metadata": {},
   "outputs": [],
   "source": [
    "# generating response\n",
    "\n",
    "res = requests.post(Ollama_api, json = payload, headers = headers)"
   ]
  },
  {
   "cell_type": "code",
   "execution_count": 9,
   "id": "bfd23769-c3f1-483a-857a-fd6b0cda7c26",
   "metadata": {},
   "outputs": [
    {
     "name": "stdout",
     "output_type": "stream",
     "text": [
      "Generative AI has numerous business applications across various industries, including:\n",
      "\n",
      "1. **Content Creation**: Generative AI can be used to generate high-quality content such as articles, social media posts, and product descriptions. This can help businesses save time and resources while maintaining consistency in their content.\n",
      "2. **Product Design**: Generative AI can assist designers in creating new product designs, prototypes, and mockups. It can also help optimize product designs for specific industries, such as automotive or aerospace.\n",
      "3. **Customer Service Chatbots**: Generative AI-powered chatbots can provide personalized customer support, answer frequently asked questions, and even engage in conversation to build brand loyalty.\n",
      "4. **Marketing Campaigns**: Generative AI can be used to create targeted marketing campaigns, including personalized ads, social media posts, and email marketing campaigns.\n",
      "5. **Data Analysis and Visualization**: Generative AI can help analyze large datasets, identify patterns, and visualize insights to inform business decisions.\n",
      "6. **Supply Chain Optimization**: Generative AI can assist in optimizing supply chains by predicting demand, managing inventory, and streamlining logistics.\n",
      "7. **Financial Modeling**: Generative AI can be used to create detailed financial models, forecast revenue, and estimate costs.\n",
      "8. **Human Resources**: Generative AI can help with tasks such as resume screening, candidate sourcing, and employee onboarding.\n",
      "9. **Brand Management**: Generative AI can assist in managing brand identity, including generating new brand assets, such as logos, colors, and typography.\n",
      "10. **Quality Control**: Generative AI can be used to inspect products for defects, identify material inconsistencies, and ensure quality control.\n",
      "\n",
      "In terms of specific industries, some notable business applications of Generative AI include:\n",
      "\n",
      "* **Automotive**: Generative AI can be used to design new car models, create personalized driving experiences, and optimize production processes.\n",
      "* **Healthcare**: Generative AI can assist in medical research, develop personalized treatment plans, and analyze medical images.\n",
      "* **Retail**: Generative AI can help with product recommendations, inventory management, and customer service chatbots.\n",
      "* **Education**: Generative AI can be used to create personalized learning experiences, grade assignments, and provide feedback.\n",
      "\n",
      "These are just a few examples of the many business applications of Generative AI. As the technology continues to evolve, we can expect to see even more innovative uses across various industries.\n"
     ]
    }
   ],
   "source": [
    "print(res.json()['message']['content'])"
   ]
  },
  {
   "cell_type": "markdown",
   "id": "3074a4a4-030c-40a9-a374-a50a5ff3fd21",
   "metadata": {},
   "source": [
    "# Creating website class for scrapping "
   ]
  },
  {
   "cell_type": "code",
   "execution_count": 10,
   "id": "ff351ee7-2513-42f1-ab10-392d51db7f50",
   "metadata": {},
   "outputs": [],
   "source": [
    "headers = {\n",
    " \"User-Agent\": \"Mozilla/5.0 (Windows NT 10.0; Win64; x64) AppleWebKit/537.36 (KHTML, like Gecko) Chrome/117.0.0.0 Safari/537.36\"\n",
    "}\n",
    "\n",
    "class Website:\n",
    "\n",
    "    def __init__(self, url):\n",
    "        self.url = url\n",
    "\n",
    "        resp = requests.get(url, headers = headers)\n",
    "        soup = BeautifulSoup(resp.content, 'html.parser')\n",
    "        self.title = soup.title.string if soup.title else \"No title found\"\n",
    "        \n",
    "        for trash in soup.body([\"script\", \"style\", \"img\", \"input\"]):\n",
    "            trash.decompose()\n",
    "\n",
    "        self.text = soup.get_text(separator = \"\\n\", strip = True)\n",
    "    "
   ]
  },
  {
   "cell_type": "code",
   "execution_count": 11,
   "id": "1d4902c8-1a5f-4f66-88a8-8a0f02d45471",
   "metadata": {},
   "outputs": [
    {
     "name": "stdout",
     "output_type": "stream",
     "text": [
      "DeepLearning.AI: Start or Advance Your Career in AI\n"
     ]
    }
   ],
   "source": [
    "web = Website(\"https://www.deeplearning.ai/\")\n",
    "print(web.title)"
   ]
  },
  {
   "cell_type": "code",
   "execution_count": 12,
   "id": "83bc6f21-ef67-44fa-89aa-27603c8312ba",
   "metadata": {},
   "outputs": [
    {
     "name": "stdout",
     "output_type": "stream",
     "text": [
      "DeepLearning.AI: Start or Advance Your Career in AI\n",
      "✨ New Professional Certificate! Enroll in\n",
      "Data Analytics\n",
      "Explore Courses\n",
      "AI Newsletter\n",
      "The Batch\n",
      "Andrew's Letter\n",
      "Data Points\n",
      "ML Research\n",
      "Blog\n",
      "Community\n",
      "Forum\n",
      "Events\n",
      "Ambassadors\n",
      "Ambassador Spotlight\n",
      "Resources\n",
      "Company\n",
      "About\n",
      "Careers\n",
      "Contact\n",
      "Start Learning\n",
      "AI is the new electricity.\n",
      "You are the spark.\n",
      "Get the latest AI news, courses, events, and insights from Andrew Ng and other AI leaders.\n",
      "Subscribe\n",
      "First Name\n",
      "Last Name\n",
      "Where do you live?\n",
      "Select a country\n",
      "What industry are you in?\n",
      "Please select\n",
      "Keep me updated on the latest news, events, and courses\n",
      "Subscribe\n",
      "Join over 7 million people learning how to use and build AI\n",
      "AI Courses and Specializations\n",
      "Build a foundation of machine learning and AI skills, and understand how to apply them in the real world.\n",
      "Explore All Courses\n",
      "In Collaboration With\n",
      "prev\n",
      "next\n",
      "The largest weekly AI newsletter\n",
      "What matters in AI right now\n",
      "Mar 19, 2025\n",
      "Inside Google’s Co-Scientist, Copyright Office Weighs Generated Works, Multilingual (and Good at All of Them), Diffusion for Materials Design\n",
      "The Batch AI News and Insights: Last Friday on Pi Day, we held AI Dev 25, a new conference for AI Developers.\n",
      "Mar 12, 2025\n",
      "DeepSeek-R1 Uncensored, QwQ-32B Puts Reasoning in Smaller Model, Phi-4-multimodal Takes Spoken Input, Training AI May Not Be Fair Use\n",
      "The Batch AI News and Insights: Some people today are discouraging others from learning programming on the grounds AI will automate it.\n",
      "Mar 05, 2025\n",
      "GPT-4.5 Goes Big, Claude 3.7 Reasons, Alexa+ Goes Agentic, Generating Text Like an Image\n",
      "The Batch AI News and Insights: Continuing our discussion on the Voice Stack, I’d like to explore an area that today’s voice-based systems mostly struggle with: Voice Activity Detection (VAD) and the turn-taking paradigm of communication.\n",
      "Read more\n",
      "Free Resources\n",
      "Get Started with AI and Machine Learning\n",
      "How to Build Your Career in AI\n",
      "A practical roadmap to building your career in AI from AI pioneer Andrew Ng\n",
      "Download\n",
      "Machine Learning Yearning\n",
      "An introductory book about developing ML algorithms.\n",
      "Download\n",
      "A Complete Guide to Natural Language Processing\n",
      "A comprehensive guide covering all you need to know about NLP.\n",
      "Read more\n",
      "Stay up to date on the latest news, courses, and AI events\n",
      "Subscribe\n",
      "First Name\n",
      "Last Name\n",
      "Where do you live?\n",
      "Select a country\n",
      "What industry are you in?\n",
      "Please select\n",
      "Keep me updated on the latest news, events, and courses\n",
      "Subscribe\n",
      "Courses\n",
      "The Batch\n",
      "Community\n",
      "Careers\n",
      "About\n"
     ]
    }
   ],
   "source": [
    "print(web.text)"
   ]
  },
  {
   "cell_type": "markdown",
   "id": "90759cb3-16d0-46a5-a560-7cfca6a33397",
   "metadata": {},
   "source": [
    "# Getting all together"
   ]
  },
  {
   "cell_type": "code",
   "execution_count": 13,
   "id": "3a80ee32-0949-4091-a054-c3b28ed6daa4",
   "metadata": {},
   "outputs": [],
   "source": [
    "system_prompt = \" You are an assistant that analyzes the contents of a website \\\n",
    "and provides a short summary \""
   ]
  },
  {
   "cell_type": "code",
   "execution_count": 14,
   "id": "e2bfeec0-a94b-4c50-83ba-844ff38b3dc6",
   "metadata": {},
   "outputs": [],
   "source": [
    "def user(website):\n",
    "    \n",
    "    user_prompt = f\"You are looking at a website titled {website.title}\"\n",
    "    user_prompt += \"\\nThe contents of this website is as follows; \\\n",
    "please provide a short summary of this website in markdown.\\n\\n\"\n",
    "    user_prompt += website.text\n",
    "\n",
    "    return user_prompt"
   ]
  },
  {
   "cell_type": "code",
   "execution_count": 15,
   "id": "d67e9eb1-5bf6-4aca-9aa3-e8f2fb722428",
   "metadata": {},
   "outputs": [],
   "source": [
    "def api_msg(website):\n",
    "\n",
    "    return [\n",
    "        {\"role\" : \"user\", 'content' : user(website)}\n",
    "    ]"
   ]
  },
  {
   "cell_type": "code",
   "execution_count": 16,
   "id": "605ac7a0-ff23-4c6e-9112-9717fbfab527",
   "metadata": {},
   "outputs": [],
   "source": [
    "def summarize(url):\n",
    "    website = Website(url)\n",
    "    payload = {\n",
    "    \"model\" : model,\n",
    "    \"messages\" : api_msg(website),\n",
    "    \"stream\" : False\n",
    "    }\n",
    "    response = requests.post(Ollama_api, json = payload, headers = headers)\n",
    "\n",
    "    return response.json()['message']['content']"
   ]
  },
  {
   "cell_type": "code",
   "execution_count": 17,
   "id": "cb45fd43-d745-4aab-b142-ed86711f6cf9",
   "metadata": {},
   "outputs": [
    {
     "data": {
      "text/markdown": [
       "**DeepLearning.AI: Start or Advance Your Career in AI**\n",
       "=============================================\n",
       "\n",
       "Overview\n",
       "--------\n",
       "\n",
       "DeepLearning.AI is a website dedicated to helping individuals start or advance their careers in Artificial Intelligence (AI). The platform offers various resources, including:\n",
       "\n",
       "*   **Courses**: A range of courses and specializations on machine learning and AI skills.\n",
       "*   **Newsletters**: The largest weekly AI newsletter providing insights on the latest developments and trends in AI.\n",
       "*   **Blog**: Articles and updates on AI research, news, and events.\n",
       "*   **Community**: A space for discussion, networking, and collaboration among AI enthusiasts.\n",
       "*   **Resources**: Free resources, including books and guides, to help individuals get started with AI.\n",
       "\n",
       "Key Features\n",
       "------------\n",
       "\n",
       "*   **Professional Certificate**: A new certificate program in data analytics, offered through partnerships with top institutions.\n",
       "*   **AI Newsletter**: Stay up-to-date on the latest news, events, and courses from Andrew Ng and other AI leaders.\n",
       "*   **Community Forum**: Connect with like-minded individuals and experts in the field of AI.\n",
       "\n",
       "Target Audience\n",
       "---------------\n",
       "\n",
       "*   Individuals interested in starting or advancing their careers in AI.\n",
       "*   Professionals looking to expand their skills in machine learning and data analytics.\n",
       "*   Students seeking knowledge on AI and its applications.\n",
       "\n",
       "By providing a comprehensive range of resources, DeepLearning.AI aims to empower individuals to tap into the vast potential of Artificial Intelligence."
      ],
      "text/plain": [
       "<IPython.core.display.Markdown object>"
      ]
     },
     "metadata": {},
     "output_type": "display_data"
    }
   ],
   "source": [
    "summary = summarize(\"https://www.deeplearning.ai/\")\n",
    "display(Markdown(summary))"
   ]
  },
  {
   "cell_type": "code",
   "execution_count": 19,
   "id": "654e6edc-5248-486f-9b3a-2ce0ce4bb353",
   "metadata": {},
   "outputs": [
    {
     "data": {
      "text/markdown": [
       "**University of Louisiana at Lafayette**\n",
       "=============================\n",
       "\n",
       "### Overview\n",
       "\n",
       "The University of Louisiana at Lafayette is a public research university located in Lafayette, Louisiana. The website offers information on various aspects of the institution, including admissions, academics, research, athletics, and campus life.\n",
       "\n",
       "### Key Features\n",
       "\n",
       "*   **Academic Programs**: 240+ majors, minors, and concentrations\n",
       "*   **Research**: A Carnegie R1 university with a strong focus on innovation and impact\n",
       "*   **Campus Life**: A vibrant community with numerous cultural events, including Mardi Gras, Downtown Alive!, and Lagniappe Day\n",
       "*   **Athletics**: The University Ragin' Cajuns compete in the NCAA Division I\n",
       "*   **Student Experience**: Support services, campus resources, and student organizations\n",
       "\n",
       "### Call to Action\n",
       "\n",
       "Visit the university's website to learn more about [www.ull.edu](http://www.ull.edu)"
      ],
      "text/plain": [
       "<IPython.core.display.Markdown object>"
      ]
     },
     "metadata": {},
     "output_type": "display_data"
    }
   ],
   "source": [
    "summary = summarize(\"https://louisiana.edu/\")\n",
    "display(Markdown(summary))"
   ]
  }
 ],
 "metadata": {
  "kernelspec": {
   "display_name": "llms",
   "language": "python",
   "name": "python3"
  },
  "language_info": {
   "codemirror_mode": {
    "name": "ipython",
    "version": 3
   },
   "file_extension": ".py",
   "mimetype": "text/x-python",
   "name": "python",
   "nbconvert_exporter": "python",
   "pygments_lexer": "ipython3",
   "version": "3.11.11"
  }
 },
 "nbformat": 4,
 "nbformat_minor": 5
}
